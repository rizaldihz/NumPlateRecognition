{
 "cells": [
  {
   "cell_type": "code",
   "execution_count": null,
   "id": "spectacular-aurora",
   "metadata": {},
   "outputs": [],
   "source": [
    "import cv2\n",
    "import numpy as np\n",
    "import matplotlib.pyplot as plt\n",
    "import os\n",
    "from os.path import splitext, basename\n",
    "from keras.models import model_from_json\n",
    "import glob"
   ]
  },
  {
   "cell_type": "code",
   "execution_count": 4,
   "id": "given-wrist",
   "metadata": {},
   "outputs": [
    {
     "name": "stdout",
     "output_type": "stream",
     "text": [
      "Loading model successfully...\n"
     ]
    }
   ],
   "source": [
    "def load_model(path):\n",
    "    try:\n",
    "        path = splitext(path)[0]\n",
    "        with open('%s.json' % path, 'r') as json_file:\n",
    "            model_json = json_file.read()\n",
    "        model = model_from_json(model_json, custom_objects={})\n",
    "        model.load_weights('%s.h5' % path)\n",
    "        print(\"Loading model successfully...\")\n",
    "        return model\n",
    "    except Exception as e:\n",
    "        print(e)\n",
    "\n",
    "wpod_net_path = \"DetectionModel/wpod-net.json\"\n",
    "wpod_net = load_model(wpod_net_path)"
   ]
  },
  {
   "cell_type": "code",
   "execution_count": 1,
   "id": "swiss-spokesman",
   "metadata": {},
   "outputs": [
    {
     "ename": "SyntaxError",
     "evalue": "invalid syntax (<ipython-input-1-abf26730c505>, line 13)",
     "output_type": "error",
     "traceback": [
      "\u001b[1;36m  File \u001b[1;32m\"<ipython-input-1-abf26730c505>\"\u001b[1;36m, line \u001b[1;32m13\u001b[0m\n\u001b[1;33m    if count%20>0 continue\u001b[0m\n\u001b[1;37m                         ^\u001b[0m\n\u001b[1;31mSyntaxError\u001b[0m\u001b[1;31m:\u001b[0m invalid syntax\n"
     ]
    }
   ],
   "source": [
    "video_dir = 'D:\\\\My Migration\\\\MATERI KULIAH\\\\8. Semester 8\\\\Video LPR'\n",
    "image_dir = 'D:\\\\My Migration\\\\MATERI KULIAH\\\\8. Semester 8\\\\Image LPR'\n",
    "print(\"Video directory exists: \"+str(os.path.isdir(video_dir)))\n",
    "im_num = 1\n",
    "for filename in os.listdir(video_dir):\n",
    "    video_path = os.path.join(video_dir,filename)\n",
    "    vidcap = cv2.VideoCapture(video_path)\n",
    "    success,image = vidcap.read()\n",
    "    count = 0\n",
    "    if success:\n",
    "        print('Reading file: ', filename)\n",
    "    while success:\n",
    "        if (count%20)>0 :\n",
    "            continue\n",
    "        image_path = os.path.join(video_dir,\"Video-%d-%d.jpg\"%(im_num,count))\n",
    "        cv2.imwrite(image_path, image)     # save frame as JPEG file      \n",
    "        success,image = vidcap.read()\n",
    "        count += 1\n",
    "    im_num += 1"
   ]
  }
 ],
 "metadata": {
  "kernelspec": {
   "display_name": "Python 3",
   "language": "python",
   "name": "python3"
  },
  "language_info": {
   "codemirror_mode": {
    "name": "ipython",
    "version": 3
   },
   "file_extension": ".py",
   "mimetype": "text/x-python",
   "name": "python",
   "nbconvert_exporter": "python",
   "pygments_lexer": "ipython3",
   "version": "3.7.9"
  }
 },
 "nbformat": 4,
 "nbformat_minor": 5
}
